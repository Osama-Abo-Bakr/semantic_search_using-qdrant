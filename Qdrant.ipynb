{
 "cells": [
  {
   "cell_type": "markdown",
   "metadata": {},
   "source": [
    "##### `Import Library`"
   ]
  },
  {
   "cell_type": "code",
   "execution_count": 21,
   "metadata": {},
   "outputs": [],
   "source": [
    "import os\n",
    "from dotenv import load_dotenv\n",
    "import pandas as pd\n",
    "from sentence_transformers import SentenceTransformer\n",
    "from tqdm import tqdm\n",
    "\n",
    "# Vector DB\n",
    "from qdrant_client import QdrantClient\n",
    "from qdrant_client.http.models import VectorParams, Distance, Batch, Filter, MatchValue, FieldCondition "
   ]
  },
  {
   "cell_type": "markdown",
   "metadata": {},
   "source": [
    "## Loading Data"
   ]
  },
  {
   "cell_type": "code",
   "execution_count": 10,
   "metadata": {},
   "outputs": [
    {
     "data": {
      "text/html": [
       "<div>\n",
       "<style scoped>\n",
       "    .dataframe tbody tr th:only-of-type {\n",
       "        vertical-align: middle;\n",
       "    }\n",
       "\n",
       "    .dataframe tbody tr th {\n",
       "        vertical-align: top;\n",
       "    }\n",
       "\n",
       "    .dataframe thead th {\n",
       "        text-align: right;\n",
       "    }\n",
       "</style>\n",
       "<table border=\"1\" class=\"dataframe\">\n",
       "  <thead>\n",
       "    <tr style=\"text-align: right;\">\n",
       "      <th></th>\n",
       "      <th>title</th>\n",
       "      <th>id</th>\n",
       "      <th>class</th>\n",
       "    </tr>\n",
       "  </thead>\n",
       "  <tbody>\n",
       "    <tr>\n",
       "      <th>0</th>\n",
       "      <td>Mental Note Vol. 24</td>\n",
       "      <td>3054</td>\n",
       "      <td>class-a</td>\n",
       "    </tr>\n",
       "    <tr>\n",
       "      <th>1</th>\n",
       "      <td>Your Brain On Coronavirus</td>\n",
       "      <td>3055</td>\n",
       "      <td>class-b</td>\n",
       "    </tr>\n",
       "    <tr>\n",
       "      <th>2</th>\n",
       "      <td>Mind Your Nose</td>\n",
       "      <td>3056</td>\n",
       "      <td>class-a</td>\n",
       "    </tr>\n",
       "    <tr>\n",
       "      <th>3</th>\n",
       "      <td>The 4 Purposes of Dreams</td>\n",
       "      <td>3057</td>\n",
       "      <td>class-b</td>\n",
       "    </tr>\n",
       "    <tr>\n",
       "      <th>4</th>\n",
       "      <td>Surviving a Rod Through the Head</td>\n",
       "      <td>3058</td>\n",
       "      <td>class-a</td>\n",
       "    </tr>\n",
       "    <tr>\n",
       "      <th>...</th>\n",
       "      <td>...</td>\n",
       "      <td>...</td>\n",
       "      <td>...</td>\n",
       "    </tr>\n",
       "    <tr>\n",
       "      <th>495</th>\n",
       "      <td>Is It Worth to Invest In Mobile E-commerce App...</td>\n",
       "      <td>3549</td>\n",
       "      <td>class-b</td>\n",
       "    </tr>\n",
       "    <tr>\n",
       "      <th>496</th>\n",
       "      <td>Let go of these things for a happier 2021</td>\n",
       "      <td>3550</td>\n",
       "      <td>class-a</td>\n",
       "    </tr>\n",
       "    <tr>\n",
       "      <th>497</th>\n",
       "      <td>Not Everyone Will like Your Writing</td>\n",
       "      <td>3551</td>\n",
       "      <td>class-b</td>\n",
       "    </tr>\n",
       "    <tr>\n",
       "      <th>498</th>\n",
       "      <td>Is Technology Neutral?</td>\n",
       "      <td>3552</td>\n",
       "      <td>class-a</td>\n",
       "    </tr>\n",
       "    <tr>\n",
       "      <th>499</th>\n",
       "      <td>Unveiling The Secrets of Navratri</td>\n",
       "      <td>3553</td>\n",
       "      <td>class-b</td>\n",
       "    </tr>\n",
       "  </tbody>\n",
       "</table>\n",
       "<p>500 rows × 3 columns</p>\n",
       "</div>"
      ],
      "text/plain": [
       "                                                 title    id    class\n",
       "0                                  Mental Note Vol. 24  3054  class-a\n",
       "1                            Your Brain On Coronavirus  3055  class-b\n",
       "2                                       Mind Your Nose  3056  class-a\n",
       "3                             The 4 Purposes of Dreams  3057  class-b\n",
       "4                     Surviving a Rod Through the Head  3058  class-a\n",
       "..                                                 ...   ...      ...\n",
       "495  Is It Worth to Invest In Mobile E-commerce App...  3549  class-b\n",
       "496          Let go of these things for a happier 2021  3550  class-a\n",
       "497                Not Everyone Will like Your Writing  3551  class-b\n",
       "498                             Is Technology Neutral?  3552  class-a\n",
       "499                  Unveiling The Secrets of Navratri  3553  class-b\n",
       "\n",
       "[500 rows x 3 columns]"
      ]
     },
     "execution_count": 10,
     "metadata": {},
     "output_type": "execute_result"
    }
   ],
   "source": [
    "data_path = os.path.join(os.getcwd(), 'dataset-semantic', 'articles_new.csv')\n",
    "df = pd.read_csv(data_path)\n",
    "df['class'] = ['class-a', 'class-b'] * 250\n",
    "df"
   ]
  },
  {
   "cell_type": "code",
   "execution_count": 11,
   "metadata": {},
   "outputs": [
    {
     "data": {
      "text/plain": [
       "SentenceTransformer(\n",
       "  (0): Transformer({'max_seq_length': 256, 'do_lower_case': False}) with Transformer model: BertModel \n",
       "  (1): Pooling({'word_embedding_dimension': 384, 'pooling_mode_cls_token': False, 'pooling_mode_mean_tokens': True, 'pooling_mode_max_tokens': False, 'pooling_mode_mean_sqrt_len_tokens': False, 'pooling_mode_weightedmean_tokens': False, 'pooling_mode_lasttoken': False, 'include_prompt': True})\n",
       "  (2): Normalize()\n",
       ")"
      ]
     },
     "execution_count": 11,
     "metadata": {},
     "output_type": "execute_result"
    }
   ],
   "source": [
    "model_hugging = SentenceTransformer(model_name_or_path='all-MiniLM-L6-v2', device='cpu')\n",
    "model_hugging"
   ]
  },
  {
   "cell_type": "code",
   "execution_count": 12,
   "metadata": {},
   "outputs": [
    {
     "name": "stdout",
     "output_type": "stream",
     "text": [
      "Length of Embedding model: 384\n"
     ]
    }
   ],
   "source": [
    "vect_length = len(model_hugging.encode(df['title'][0]))\n",
    "print('Length of Embedding model: {}'.format(vect_length))"
   ]
  },
  {
   "cell_type": "code",
   "execution_count": 13,
   "metadata": {},
   "outputs": [],
   "source": [
    "_ = load_dotenv(override=True)\n",
    "QDRANT_API_KEY = os.getenv('QDRANT_API_KEY')\n",
    "QDRANT_URL = os.getenv('QDRANT_URL')"
   ]
  },
  {
   "cell_type": "markdown",
   "metadata": {},
   "source": [
    "### Qdrant In Code"
   ]
  },
  {
   "cell_type": "code",
   "execution_count": 14,
   "metadata": {},
   "outputs": [
    {
     "name": "stdout",
     "output_type": "stream",
     "text": [
      "Collection course Already Exist.\n"
     ]
    }
   ],
   "source": [
    "# connect to Qdrant\n",
    "client = QdrantClient(url=QDRANT_URL, api_key=QDRANT_API_KEY)\n",
    "\n",
    "# Collecting configration\n",
    "collection_config = VectorParams(\n",
    "    size=vect_length,\n",
    "    distance=Distance.COSINE, \n",
    "    on_disk=True\n",
    ")\n",
    "\n",
    "\n",
    "## Create a collection\n",
    "try:\n",
    "    collec_name = 'course'\n",
    "    client.create_collection(collection_name=collec_name, vectors_config=collection_config)\n",
    "    print('Collection Craeted Successfuly')\n",
    "except:\n",
    "    print(f'Collection {collec_name} Already Exist.')"
   ]
  },
  {
   "cell_type": "code",
   "execution_count": 15,
   "metadata": {},
   "outputs": [
    {
     "name": "stdout",
     "output_type": "stream",
     "text": [
      "Status is: green\n",
      "Vectors Count is: None\n"
     ]
    }
   ],
   "source": [
    "## Check Status of Collection\n",
    "collection_status = client.get_collection(collection_name=collec_name).status\n",
    "collection_count_vectors = client.get_collection(collection_name=collec_name).vectors_count\n",
    "\n",
    "print(f'Status is: {collection_status}')\n",
    "print(f'Vectors Count is: {collection_count_vectors}')"
   ]
  },
  {
   "cell_type": "markdown",
   "metadata": {},
   "source": [
    "### Upserting to Qdrant"
   ]
  },
  {
   "cell_type": "code",
   "execution_count": 16,
   "metadata": {},
   "outputs": [
    {
     "name": "stderr",
     "output_type": "stream",
     "text": [
      "100%|██████████| 16/16 [00:29<00:00,  1.87s/it]\n"
     ]
    }
   ],
   "source": [
    "## Function for upserting data to Qdrant\n",
    "def upsert_to_qdrant(df, batch_size=32):\n",
    "\n",
    "    ## A list for failed_ids\n",
    "    failed_ids = []\n",
    "\n",
    "    for batch_start in tqdm(range(0, len(df), batch_size)):\n",
    "\n",
    "        try:\n",
    "            ## Prepare batches\n",
    "            batch_end = min(batch_start+batch_size, len(df))\n",
    "            titles_batch = df['title'][batch_start: batch_end].tolist()\n",
    "            ids_batch = df['id'][batch_start: batch_end].tolist()     ## No need to be converted to string (Qdrant need integer)\n",
    "            \n",
    "            ## Payload\n",
    "            payload_batch = [{'class': cls} for cls in df['class'][batch_start: batch_end].tolist()]\n",
    "\n",
    "            ## Get Embeddings using HuggingFace model\n",
    "            embeds_batch = model_hugging.encode(titles_batch).tolist()\n",
    "\n",
    "            ## Prepare to Qdrant\n",
    "            to_upsert = Batch(ids=ids_batch, vectors=embeds_batch, payloads=payload_batch)\n",
    "\n",
    "            ## Upsert to Qdrant\n",
    "            client.upsert(collection_name=collec_name, wait=True, points=to_upsert)\n",
    "\n",
    "\n",
    "        except Exception as e:\n",
    "            print(f'Error in upserting: {e}')\n",
    "            failed_ids.append(ids_batch)\n",
    "\n",
    "    return failed_ids\n",
    "\n",
    "\n",
    "## Apply the function\n",
    "failed_ids = upsert_to_qdrant(df=df, batch_size=32)"
   ]
  },
  {
   "cell_type": "code",
   "execution_count": 19,
   "metadata": {},
   "outputs": [
    {
     "name": "stdout",
     "output_type": "stream",
     "text": [
      "Status is: green\n",
      "Vectors Count is: 500\n"
     ]
    }
   ],
   "source": [
    "## Check Status of Collection\n",
    "collection_status = client.get_collection(collection_name=collec_name).status\n",
    "collection_count_vectors = client.get_collection(collection_name=collec_name).points_count\n",
    "\n",
    "print(f'Status is: {collection_status}')\n",
    "print(f'Vectors Count is: {collection_count_vectors}')"
   ]
  },
  {
   "cell_type": "markdown",
   "metadata": {},
   "source": [
    "### Query In Qdrant"
   ]
  },
  {
   "cell_type": "code",
   "execution_count": 23,
   "metadata": {},
   "outputs": [
    {
     "data": {
      "text/plain": [
       "[ScoredPoint(id=3552, version=27, score=0.77367496, payload={'class': 'class-a'}, vector=None, shard_key=None, order_value=None),\n",
       " ScoredPoint(id=3368, version=21, score=0.36533967, payload={'class': 'class-a'}, vector=None, shard_key=None, order_value=None),\n",
       " ScoredPoint(id=3524, version=26, score=0.27010286, payload={'class': 'class-a'}, vector=None, shard_key=None, order_value=None),\n",
       " ScoredPoint(id=3246, version=18, score=0.2518342, payload={'class': 'class-a'}, vector=None, shard_key=None, order_value=None)]"
      ]
     },
     "execution_count": 23,
     "metadata": {},
     "output_type": "execute_result"
    }
   ],
   "source": [
    "query_text = 'Neutral Technology'\n",
    "\n",
    "# Embedding using model\n",
    "query_embeds = model_hugging.encode(query_text).tolist()\n",
    "\n",
    "# Search In Pinecone\n",
    "result = client.search(collection_name=collec_name,\n",
    "                       query_vector=query_embeds,\n",
    "                       limit=5, score_threshold=0.25,\n",
    "                       query_filter=Filter(must=[FieldCondition(key='class', match=MatchValue(value='class-a'))]))\n",
    "result"
   ]
  },
  {
   "cell_type": "markdown",
   "metadata": {},
   "source": [
    "### Delete In Qdrant"
   ]
  },
  {
   "cell_type": "code",
   "execution_count": null,
   "metadata": {},
   "outputs": [],
   "source": []
  }
 ],
 "metadata": {
  "kernelspec": {
   "display_name": "vectorDB",
   "language": "python",
   "name": "python3"
  },
  "language_info": {
   "codemirror_mode": {
    "name": "ipython",
    "version": 3
   },
   "file_extension": ".py",
   "mimetype": "text/x-python",
   "name": "python",
   "nbconvert_exporter": "python",
   "pygments_lexer": "ipython3",
   "version": "3.10.9"
  }
 },
 "nbformat": 4,
 "nbformat_minor": 2
}
